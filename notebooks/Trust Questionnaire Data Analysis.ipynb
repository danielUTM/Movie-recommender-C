{
 "cells": [
  {
   "cell_type": "code",
   "execution_count": 9,
   "metadata": {},
   "outputs": [],
   "source": [
    "from scipy import stats\n",
    "from statistics import mean\n",
    "import numpy as np"
   ]
  },
  {
   "cell_type": "code",
   "execution_count": 10,
   "metadata": {},
   "outputs": [],
   "source": [
    "system_A = [29, 27, 14, 22, 28, 29, 28, 29, 30, 33, 27, 29, 30, 35, 27, 34, 24, 20, 28, 30, 29, 29, 22]\n",
    "system_B = [29, 34, 26, 28, 34, 22, 27, 36, 26, 28, 32, 32, 33, 28, 33, 26, 31, 32, 25, 27, 33, 26,35]"
   ]
  },
  {
   "cell_type": "code",
   "execution_count": 11,
   "metadata": {},
   "outputs": [],
   "source": [
    "system_A_avg = mean(system_A)\n",
    "system_B_avg = mean(system_B)"
   ]
  },
  {
   "cell_type": "code",
   "execution_count": 12,
   "metadata": {},
   "outputs": [
    {
     "name": "stdout",
     "output_type": "stream",
     "text": [
      "System A Avg: \n",
      "27.52173913043478\n",
      "System B Avg: \n",
      "29.695652173913043\n"
     ]
    }
   ],
   "source": [
    "print('System A Avg: ')\n",
    "print(system_A_avg)\n",
    "print('System B Avg: ')\n",
    "print(system_B_avg)"
   ]
  },
  {
   "cell_type": "code",
   "execution_count": 13,
   "metadata": {},
   "outputs": [],
   "source": [
    "system_A_std = np.std(system_A)\n",
    "system_B_std = np.std(system_B)"
   ]
  },
  {
   "cell_type": "code",
   "execution_count": 14,
   "metadata": {},
   "outputs": [
    {
     "name": "stdout",
     "output_type": "stream",
     "text": [
      "System A std: \n",
      "4.538430730678222\n",
      "System B std: \n",
      "3.6999974454597018\n"
     ]
    }
   ],
   "source": [
    "print('System A std: ')\n",
    "print(system_A_std)\n",
    "print('System B std: ')\n",
    "print(system_B_std)"
   ]
  },
  {
   "cell_type": "code",
   "execution_count": 15,
   "metadata": {},
   "outputs": [],
   "source": [
    "system_A_median = np.median(system_A)\n",
    "system_B_median = np.median(system_B)"
   ]
  },
  {
   "cell_type": "code",
   "execution_count": 16,
   "metadata": {},
   "outputs": [
    {
     "name": "stdout",
     "output_type": "stream",
     "text": [
      "System A median: \n",
      "29.0\n",
      "System B median: \n",
      "29.0\n"
     ]
    }
   ],
   "source": [
    "print('System A median: ')\n",
    "print(system_A_median)\n",
    "print('System B median: ')\n",
    "print(system_B_median)"
   ]
  },
  {
   "cell_type": "markdown",
   "metadata": {},
   "source": [
    "# Independent t-tests"
   ]
  },
  {
   "cell_type": "code",
   "execution_count": 17,
   "metadata": {},
   "outputs": [
    {
     "data": {
      "text/plain": [
       "Ttest_indResult(statistic=-1.7413523083934783, pvalue=0.0886103460865685)"
      ]
     },
     "execution_count": 17,
     "metadata": {},
     "output_type": "execute_result"
    }
   ],
   "source": [
    "stats.ttest_ind(system_A, system_B)"
   ]
  },
  {
   "cell_type": "code",
   "execution_count": 28,
   "metadata": {},
   "outputs": [
    {
     "data": {
      "text/plain": [
       "Ttest_indResult(statistic=1.7413523083934783, pvalue=0.0886103460865685)"
      ]
     },
     "execution_count": 28,
     "metadata": {},
     "output_type": "execute_result"
    }
   ],
   "source": [
    "stats.ttest_ind(system_B, system_A)"
   ]
  },
  {
   "cell_type": "code",
   "execution_count": 27,
   "metadata": {},
   "outputs": [
    {
     "data": {
      "text/plain": [
       "Ttest_indResult(statistic=-1.19689918466714, pvalue=0.23775502470716153)"
      ]
     },
     "execution_count": 27,
     "metadata": {},
     "output_type": "execute_result"
    }
   ],
   "source": [
    "clicks_system_A = [15, 7, 29, 15, 14, 18, 59, 14, 11, 24, 9, 2, 21, 21, 15, 6, 9, 14, 17, 5, 46, 11, 22]\n",
    "clicks_system_B = [4, 20, 106, 14, 29, 28, 20, 13, 11, 10, 13, 27, 9, 34, 7, 26, 26, 30, 37, 40, 12, 8, 20]\n",
    "stats.ttest_ind(clicks_system_A, clicks_system_B)"
   ]
  },
  {
   "cell_type": "code",
   "execution_count": 25,
   "metadata": {},
   "outputs": [
    {
     "name": "stdout",
     "output_type": "stream",
     "text": [
      "15.0\n",
      "20.0\n"
     ]
    }
   ],
   "source": [
    "print(np.median(clicks_system_A))\n",
    "print(np.median(clicks_system_B))"
   ]
  }
 ],
 "metadata": {
  "kernelspec": {
   "display_name": "Python 3",
   "language": "python",
   "name": "python3"
  },
  "language_info": {
   "codemirror_mode": {
    "name": "ipython",
    "version": 3
   },
   "file_extension": ".py",
   "mimetype": "text/x-python",
   "name": "python",
   "nbconvert_exporter": "python",
   "pygments_lexer": "ipython3",
   "version": "3.8.3"
  }
 },
 "nbformat": 4,
 "nbformat_minor": 4
}
