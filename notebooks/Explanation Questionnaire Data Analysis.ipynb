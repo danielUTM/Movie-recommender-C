{
 "cells": [
  {
   "cell_type": "code",
   "execution_count": 2,
   "metadata": {},
   "outputs": [],
   "source": [
    "from scipy import stats\n",
    "from statistics import mean\n",
    "import numpy as np"
   ]
  },
  {
   "cell_type": "code",
   "execution_count": 11,
   "metadata": {},
   "outputs": [],
   "source": [
    "explanation_1 = [32, 22, 37, 20, 24, 27, 17, 30, 31, 25, 28, 29, 29, 33, 35, 33, 15, 29, 31, 14, 21, 14, 27, 20, 28, 35, 31, 22, 21, 27, 31, 28, 23, 22, 33, 31, 31, 33, 26, 26, 27]\n",
    "explanation_2 = [18, 32, 22, 23, 30, 19, 26, 21, 33, 29, 11, 21, 27, 26, 26, 33, 34, 10, 22, 35, 19, 35, 23, 16, 15, 32, 24, 16, 14, 39, 36, 15, 28, 26, 26, 22, 22, 17, 21, 17, 16]\n",
    "explanation_3 = [15, 39, 34, 33, 20, 15, 22, 16, 28, 32, 8, 29, 28, 23, 29, 21, 17, 16, 34, 22, 21, 22, 24, 16, 16, 32, 26, 8, 17, 32, 26, 16, 23, 26, 15, 17, 17, 32, 34, 14, 31]"
   ]
  },
  {
   "cell_type": "code",
   "execution_count": 12,
   "metadata": {},
   "outputs": [],
   "source": [
    "explanation_1_avg = mean(explanation_1)\n",
    "explanation_2_avg = mean(explanation_2)\n",
    "explanation_3_avg = mean(explanation_3)"
   ]
  },
  {
   "cell_type": "code",
   "execution_count": 13,
   "metadata": {},
   "outputs": [
    {
     "name": "stdout",
     "output_type": "stream",
     "text": [
      "Explanation 1 Avg: \n",
      "26.78048780487805\n",
      "Explanation 2 Avg: \n",
      "23.829268292682926\n",
      "Explanation 3 Avg: \n",
      "23.073170731707318\n"
     ]
    }
   ],
   "source": [
    "print('Explanation 1 Avg: ')\n",
    "print(explanation_1_avg)\n",
    "print('Explanation 2 Avg: ')\n",
    "print(explanation_2_avg)\n",
    "print('Explanation 3 Avg: ')\n",
    "print(explanation_3_avg)"
   ]
  },
  {
   "cell_type": "code",
   "execution_count": 14,
   "metadata": {},
   "outputs": [],
   "source": [
    "explanation_1_std = np.std(explanation_1)\n",
    "explanation_2_std = np.std(explanation_2)\n",
    "explanation_3_std = np.std(explanation_3)"
   ]
  },
  {
   "cell_type": "code",
   "execution_count": 15,
   "metadata": {},
   "outputs": [
    {
     "name": "stdout",
     "output_type": "stream",
     "text": [
      "Explanation 1 std: \n",
      "5.786916256698934\n",
      "Explanation 2 std: \n",
      "7.247884263277988\n",
      "Explanation 3 std: \n",
      "7.633016358357176\n"
     ]
    }
   ],
   "source": [
    "print('Explanation 1 std: ')\n",
    "print(explanation_1_std)\n",
    "print('Explanation 2 std: ')\n",
    "print(explanation_2_std)\n",
    "print('Explanation 3 std: ')\n",
    "print(explanation_3_std)"
   ]
  },
  {
   "cell_type": "code",
   "execution_count": 21,
   "metadata": {},
   "outputs": [],
   "source": [
    "explanation_1_median = np.median(explanation_1)\n",
    "explanation_2_median = np.median(explanation_2)\n",
    "explanation_3_median = np.median(explanation_3)"
   ]
  },
  {
   "cell_type": "code",
   "execution_count": 22,
   "metadata": {},
   "outputs": [
    {
     "name": "stdout",
     "output_type": "stream",
     "text": [
      "Explanation 1 median: \n",
      "28.0\n",
      "Explanation 2 median: \n",
      "23.0\n",
      "Explanation 3 median: \n",
      "22.0\n"
     ]
    }
   ],
   "source": [
    "print('Explanation 1 median: ')\n",
    "print(explanation_1_median)\n",
    "print('Explanation 2 median: ')\n",
    "print(explanation_2_median)\n",
    "print('Explanation 3 median: ')\n",
    "print(explanation_3_median)"
   ]
  },
  {
   "cell_type": "markdown",
   "metadata": {},
   "source": [
    "# Independent t-tests"
   ]
  },
  {
   "cell_type": "markdown",
   "metadata": {},
   "source": [
    "Indepndent t-test btw explanation 1 and explanation 2"
   ]
  },
  {
   "cell_type": "code",
   "execution_count": 16,
   "metadata": {},
   "outputs": [
    {
     "data": {
      "text/plain": [
       "Ttest_indResult(statistic=2.012478361695655, pvalue=0.04753444291259119)"
      ]
     },
     "execution_count": 16,
     "metadata": {},
     "output_type": "execute_result"
    }
   ],
   "source": [
    "stats.ttest_ind(explanation_1, explanation_2)"
   ]
  },
  {
   "cell_type": "markdown",
   "metadata": {},
   "source": [
    "Indepndent t-test btw explanation 2 and explanation 3"
   ]
  },
  {
   "cell_type": "code",
   "execution_count": 17,
   "metadata": {},
   "outputs": [
    {
     "data": {
      "text/plain": [
       "Ttest_indResult(statistic=0.45430572785429424, pvalue=0.650839042705352)"
      ]
     },
     "execution_count": 17,
     "metadata": {},
     "output_type": "execute_result"
    }
   ],
   "source": [
    "stats.ttest_ind(explanation_2, explanation_3)"
   ]
  },
  {
   "cell_type": "markdown",
   "metadata": {},
   "source": [
    "Indepndent t-test btw explanation 1 and explanation 3"
   ]
  },
  {
   "cell_type": "code",
   "execution_count": 18,
   "metadata": {},
   "outputs": [
    {
     "data": {
      "text/plain": [
       "Ttest_indResult(statistic=2.447842791836341, pvalue=0.01656045992348651)"
      ]
     },
     "execution_count": 18,
     "metadata": {},
     "output_type": "execute_result"
    }
   ],
   "source": [
    "stats.ttest_ind(explanation_1, explanation_3)"
   ]
  },
  {
   "cell_type": "markdown",
   "metadata": {},
   "source": [
    "# Kruskal-Wallis tests"
   ]
  },
  {
   "cell_type": "code",
   "execution_count": 19,
   "metadata": {},
   "outputs": [
    {
     "data": {
      "text/plain": [
       "KruskalResult(statistic=5.690274038973026, pvalue=0.05812630175813528)"
      ]
     },
     "execution_count": 19,
     "metadata": {},
     "output_type": "execute_result"
    }
   ],
   "source": [
    "stats.kruskal(explanation_1, explanation_2, explanation_3)"
   ]
  },
  {
   "cell_type": "markdown",
   "metadata": {},
   "source": []
  }
 ],
 "metadata": {
  "kernelspec": {
   "display_name": "Python 3",
   "language": "python",
   "name": "python3"
  },
  "language_info": {
   "codemirror_mode": {
    "name": "ipython",
    "version": 3
   },
   "file_extension": ".py",
   "mimetype": "text/x-python",
   "name": "python",
   "nbconvert_exporter": "python",
   "pygments_lexer": "ipython3",
   "version": "3.8.3"
  }
 },
 "nbformat": 4,
 "nbformat_minor": 4
}
